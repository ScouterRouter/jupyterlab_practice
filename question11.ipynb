{
 "cells": [
  {
   "cell_type": "markdown",
   "id": "3f821d10-853f-4230-8d49-d2e3127fddd0",
   "metadata": {},
   "source": [
    "# Natalie Twohey\n",
    "Notebook for assignment 7"
   ]
  },
  {
   "cell_type": "code",
   "execution_count": 1,
   "id": "5494ff35-3981-4509-8cc3-3215b5ce63fd",
   "metadata": {},
   "outputs": [
    {
     "name": "stdout",
     "output_type": "stream",
     "text": [
      "5.0\n"
     ]
    }
   ],
   "source": [
    "def compute_mean(num_list):\n",
    "    mean = sum(num_list) / len(num_list)\n",
    "    print(mean)\n",
    "\n",
    "compute_mean([2, 4, 6, 8])"
   ]
  },
  {
   "cell_type": "markdown",
   "id": "cb1a6002-763c-4778-955f-155757f68e63",
   "metadata": {},
   "source": [
    "The compute_mean function takes the sum of a list of numbers and divides it by the list's length, giving the mean for that set of numbers.\n",
    "\n",
    "The equation for the mean of a list of numbers is:\n",
    "\n",
    "$$\n",
    "\\bar x = \\frac{x_1 + x_2 + \\cdots + x_n}{n} = \\frac{1}{n} \\Bigg(\\sum_{i=1}^nx_i\\Bigg)\\\\\n",
    "$$\n"
   ]
  }
 ],
 "metadata": {
  "kernelspec": {
   "display_name": "Python 3 (ipykernel)",
   "language": "python",
   "name": "python3"
  },
  "language_info": {
   "codemirror_mode": {
    "name": "ipython",
    "version": 3
   },
   "file_extension": ".py",
   "mimetype": "text/x-python",
   "name": "python",
   "nbconvert_exporter": "python",
   "pygments_lexer": "ipython3",
   "version": "3.9.16"
  }
 },
 "nbformat": 4,
 "nbformat_minor": 5
}
